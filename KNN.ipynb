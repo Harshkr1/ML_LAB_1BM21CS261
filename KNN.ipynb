{
  "nbformat": 4,
  "nbformat_minor": 0,
  "metadata": {
    "colab": {
      "provenance": [],
      "authorship_tag": "ABX9TyNwr+P1aI+PKEhkLX/Exvgm",
      "include_colab_link": true
    },
    "kernelspec": {
      "name": "python3",
      "display_name": "Python 3"
    },
    "language_info": {
      "name": "python"
    }
  },
  "cells": [
    {
      "cell_type": "markdown",
      "metadata": {
        "id": "view-in-github",
        "colab_type": "text"
      },
      "source": [
        "<a href=\"https://colab.research.google.com/github/Harshkr1/ML_LAB_1BM21CS261/blob/main/KNN.ipynb\" target=\"_parent\"><img src=\"https://colab.research.google.com/assets/colab-badge.svg\" alt=\"Open In Colab\"/></a>"
      ]
    },
    {
      "cell_type": "code",
      "execution_count": 1,
      "metadata": {
        "colab": {
          "base_uri": "https://localhost:8080/"
        },
        "id": "KHCxY2Osvdxa",
        "outputId": "3a118cc9-d668-4162-9876-b86912391e6e"
      },
      "outputs": [
        {
          "output_type": "stream",
          "name": "stdout",
          "text": [
            "Enter the number of samples in your dataset: 2\n",
            "Enter the number of features in your dataset: 3\n",
            "Enter the values for features and labels:\n",
            "Enter features for sample 1 (separated by space): 10.00 2.00 5.00\n",
            "Enter label for sample 1: 0\n",
            "Enter features for sample 2 (separated by space): 5.00 6.00 4.00\n",
            "Enter label for sample 2: 1\n",
            "Enter the value of K for KNN: 1\n",
            "Accuracy of the KNN model: 0.0\n"
          ]
        }
      ],
      "source": [
        "# Import necessary libraries\n",
        "from sklearn.neighbors import KNeighborsClassifier\n",
        "from sklearn.metrics import accuracy_score\n",
        "from sklearn.model_selection import train_test_split\n",
        "import numpy as np\n",
        "\n",
        "# Function to get user input for dataset\n",
        "def get_user_input():\n",
        "    num_samples = int(input(\"Enter the number of samples in your dataset: \"))\n",
        "    num_features = int(input(\"Enter the number of features in your dataset: \"))\n",
        "    X = []\n",
        "    y = []\n",
        "    print(\"Enter the values for features and labels:\")\n",
        "    for i in range(num_samples):\n",
        "        features = list(map(float, input(f\"Enter features for sample {i+1} (separated by space): \").split()))\n",
        "        label = int(input(f\"Enter label for sample {i+1}: \"))\n",
        "        X.append(features)\n",
        "        y.append(label)\n",
        "    return np.array(X), np.array(y)\n",
        "\n",
        "# Get user input for dataset\n",
        "X, y = get_user_input()\n",
        "\n",
        "# Split the dataset into train and test sets\n",
        "X_train, X_test, y_train, y_test = train_test_split(X, y, test_size=0.2, random_state=42)\n",
        "\n",
        "# Get user input for K value\n",
        "k = int(input(\"Enter the value of K for KNN: \"))\n",
        "\n",
        "# Train the KNN model\n",
        "knn = KNeighborsClassifier(n_neighbors=k)\n",
        "knn.fit(X_train, y_train)\n",
        "\n",
        "# Predictions on the test set\n",
        "y_pred = knn.predict(X_test)\n",
        "\n",
        "# Calculate accuracy\n",
        "accuracy = accuracy_score(y_test, y_pred)\n",
        "print(f\"Accuracy of the KNN model: {accuracy}\")"
      ]
    }
  ]
}