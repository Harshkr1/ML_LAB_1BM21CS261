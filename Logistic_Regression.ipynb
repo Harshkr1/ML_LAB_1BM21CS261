{
  "nbformat": 4,
  "nbformat_minor": 0,
  "metadata": {
    "colab": {
      "provenance": [],
      "authorship_tag": "ABX9TyOZH8HFQ1XK6sUjUFdD0opg",
      "include_colab_link": true
    },
    "kernelspec": {
      "name": "python3",
      "display_name": "Python 3"
    },
    "language_info": {
      "name": "python"
    }
  },
  "cells": [
    {
      "cell_type": "markdown",
      "metadata": {
        "id": "view-in-github",
        "colab_type": "text"
      },
      "source": [
        "<a href=\"https://colab.research.google.com/github/Harshkr1/ML_LAB_1BM21CS261/blob/main/Logistic_Regression.ipynb\" target=\"_parent\"><img src=\"https://colab.research.google.com/assets/colab-badge.svg\" alt=\"Open In Colab\"/></a>"
      ]
    },
    {
      "cell_type": "code",
      "execution_count": 3,
      "metadata": {
        "colab": {
          "base_uri": "https://localhost:8080/"
        },
        "id": "tPhq3cSdvyEf",
        "outputId": "a94d883d-8ec3-489f-efd0-b3d5c949d4fe"
      },
      "outputs": [
        {
          "output_type": "stream",
          "name": "stdout",
          "text": [
            "Enter the number of samples in your dataset: 3\n",
            "Enter the number of features in your dataset: 5\n",
            "Enter the values for features and labels:\n",
            "Enter features for sample 1 (separated by space): 1.00 2.00 3.00 4.00 5.00\n",
            "Enter label for sample 1: 0\n",
            "Enter features for sample 2 (separated by space): 4.00 5.00 6.00 7.00 8.00\n",
            "Enter label for sample 2: 1\n",
            "Enter features for sample 3 (separated by space): 9.00 8.00 7.00 6.00 2.00\n",
            "Enter label for sample 3: 0\n",
            "Accuracy of the Logistic Regression model: 0.0\n"
          ]
        }
      ],
      "source": [
        "from sklearn.linear_model import LogisticRegression\n",
        "from sklearn.model_selection import train_test_split\n",
        "from sklearn.metrics import accuracy_score\n",
        "import numpy as np\n",
        "\n",
        "# Function to get user input for dataset\n",
        "def get_user_input():\n",
        "    num_samples = int(input(\"Enter the number of samples in your dataset: \"))\n",
        "    num_features = int(input(\"Enter the number of features in your dataset: \"))\n",
        "    X = []\n",
        "    y = []\n",
        "    print(\"Enter the values for features and labels:\")\n",
        "    for i in range(num_samples):\n",
        "        features = list(map(float, input(f\"Enter features for sample {i+1} (separated by space): \").split()))\n",
        "        label = int(input(f\"Enter label for sample {i+1}: \"))\n",
        "        X.append(features)\n",
        "        y.append(label)\n",
        "    return np.array(X), np.array(y)\n",
        "\n",
        "# Get user input for dataset\n",
        "X, y = get_user_input()\n",
        "\n",
        "# Split the dataset into train and test sets\n",
        "X_train, X_test, y_train, y_test = train_test_split(X, y, test_size=0.2, random_state=42)\n",
        "\n",
        "# Train the Logistic Regression model\n",
        "log_reg = LogisticRegression()\n",
        "log_reg.fit(X_train, y_train)\n",
        "\n",
        "# Predictions on the test set\n",
        "y_pred = log_reg.predict(X_test)\n",
        "\n",
        "# Calculate accuracy\n",
        "accuracy = accuracy_score(y_test, y_pred)\n",
        "print(f\"Accuracy of the Logistic Regression model: {accuracy}\")"
      ]
    }
  ]
}